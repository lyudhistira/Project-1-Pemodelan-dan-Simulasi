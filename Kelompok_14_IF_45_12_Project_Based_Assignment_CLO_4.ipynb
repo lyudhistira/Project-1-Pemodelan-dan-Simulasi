{
  "cells": [
    {
      "cell_type": "markdown",
      "id": "0998ab93",
      "metadata": {
        "id": "0998ab93"
      },
      "source": [
        "# <center>Project-Based Assignment CLO-4</center>"
      ]
    },
    {
      "cell_type": "markdown",
      "id": "b9dd2c3d",
      "metadata": {
        "id": "b9dd2c3d"
      },
      "source": [
        "<b>Topik</b>\n",
        "Implementation of Ensemble Method on Classification Task\n",
        "\n",
        "<b>Anggota Kelompok</b>\n",
        "1. Miracle Elizabeth Gabriela - 1301213467\n",
        "2. Ignatius Jonathan Pratomohadi - 1301213019\n",
        "3. Laurentius Yudhistira Adhipratama - 1301180303"
      ]
    },
    {
      "cell_type": "markdown",
      "id": "f67c8e8d",
      "metadata": {
        "id": "f67c8e8d"
      },
      "source": [
        "### Latar Belakang\n",
        "Metode Pendekatan Ensemble dan Kelas Klasifikasi\n",
        "\n",
        "Dalam dunia biologi modern, pemahaman yang mendalam tentang lokasi seluler protein sangat penting untuk mengungkap peran dan fungsi biologisnya. Salah satu pendekatan yang digunakan untuk menentukan lokasi seluler protein adalah melalui analisis data multivariat yang mencakup berbagai fitur yang terkait. Dalam konteks ini, dataset yang digunakan untuk tugas ini adalah kumpulan data yang mengandung informasi penting tentang protein, dengan fokus pada klasifikasi lokasi seluler.\n",
        "\n",
        "Detail Data:\n",
        "\n",
        "    Jenis Data: Multivariat\n",
        "    Bidang Subjek: Biologi\n",
        "    Tugas Terkait: Klasifikasi\n",
        "    Jenis Fitur: Real\n",
        "    Jumlah Instansi (Instances): 1484\n",
        "    Jumlah Fitur (Features): 8\n",
        "\n",
        "Dataset ini menyajikan tantangan yang menarik dalam menganalisis dan mengklasifikasikan protein berdasarkan lokasi selulernya. Dengan menggunakan metode ensemble, tugas ini bertujuan untuk meningkatkan akurasi klasifikasi dan memberikan wawasan yang lebih baik tentang distribusi protein dalam konteks seluler. Melalui implementasi metode ensemble, kita berharap dapat mengoptimalkan prediksi lokasi seluler protein, membuka pintu untuk pemahaman lebih mendalam tentang dunia seluler dan biologi secara keseluruhan."
      ]
    },
    {
      "cell_type": "markdown",
      "source": [
        "# A. Data Preprocessing"
      ],
      "metadata": {
        "id": "mTFivbNTs6fV"
      },
      "id": "mTFivbNTs6fV"
    },
    {
      "cell_type": "code",
      "execution_count": null,
      "id": "bd1c9727",
      "metadata": {
        "id": "bd1c9727"
      },
      "outputs": [],
      "source": [
        "# Import library\n",
        "import pandas as pd\n",
        "from sklearn.ensemble import RandomForestClassifier, AdaBoostClassifier\n",
        "from sklearn.model_selection import GridSearchCV\n",
        "from sklearn.metrics import accuracy_score, classification_report, confusion_matrix\n",
        "import matplotlib.pyplot as plt\n",
        "import seaborn as sns"
      ]
    },
    {
      "cell_type": "code",
      "execution_count": null,
      "id": "f7769541",
      "metadata": {
        "id": "f7769541"
      },
      "outputs": [],
      "source": [
        "# Load dataset\n",
        "path_to_yeast_data = '/content/yeast.data'\n",
        "data = pd.read_csv(path_to_yeast_data, sep='\\s+', header=None)"
      ]
    },
    {
      "cell_type": "code",
      "source": [
        "# Eksplorasi Data\n",
        "print(data.head())\n",
        "print(data.info())\n",
        "print(data.describe())"
      ],
      "metadata": {
        "colab": {
          "base_uri": "https://localhost:8080/"
        },
        "id": "B-gGymsctohx",
        "outputId": "4fa25e77-f51c-44b0-a6af-56b6111a9e23"
      },
      "id": "B-gGymsctohx",
      "execution_count": null,
      "outputs": [
        {
          "output_type": "stream",
          "name": "stdout",
          "text": [
            "            0     1     2     3     4    5    6     7     8    9\n",
            "0  ADT1_YEAST  0.58  0.61  0.47  0.13  0.5  0.0  0.48  0.22  MIT\n",
            "1  ADT2_YEAST  0.43  0.67  0.48  0.27  0.5  0.0  0.53  0.22  MIT\n",
            "2  ADT3_YEAST  0.64  0.62  0.49  0.15  0.5  0.0  0.53  0.22  MIT\n",
            "3  AAR2_YEAST  0.58  0.44  0.57  0.13  0.5  0.0  0.54  0.22  NUC\n",
            "4  AATM_YEAST  0.42  0.44  0.48  0.54  0.5  0.0  0.48  0.22  MIT\n",
            "<class 'pandas.core.frame.DataFrame'>\n",
            "RangeIndex: 1484 entries, 0 to 1483\n",
            "Data columns (total 10 columns):\n",
            " #   Column  Non-Null Count  Dtype  \n",
            "---  ------  --------------  -----  \n",
            " 0   0       1484 non-null   object \n",
            " 1   1       1484 non-null   float64\n",
            " 2   2       1484 non-null   float64\n",
            " 3   3       1484 non-null   float64\n",
            " 4   4       1484 non-null   float64\n",
            " 5   5       1484 non-null   float64\n",
            " 6   6       1484 non-null   float64\n",
            " 7   7       1484 non-null   float64\n",
            " 8   8       1484 non-null   float64\n",
            " 9   9       1484 non-null   object \n",
            "dtypes: float64(8), object(2)\n",
            "memory usage: 116.1+ KB\n",
            "None\n",
            "                 1            2            3            4            5  \\\n",
            "count  1484.000000  1484.000000  1484.000000  1484.000000  1484.000000   \n",
            "mean      0.500121     0.499933     0.500034     0.261186     0.504717   \n",
            "std       0.137299     0.123924     0.086670     0.137098     0.048351   \n",
            "min       0.110000     0.130000     0.210000     0.000000     0.500000   \n",
            "25%       0.410000     0.420000     0.460000     0.170000     0.500000   \n",
            "50%       0.490000     0.490000     0.510000     0.220000     0.500000   \n",
            "75%       0.580000     0.570000     0.550000     0.320000     0.500000   \n",
            "max       1.000000     1.000000     1.000000     1.000000     1.000000   \n",
            "\n",
            "                 6            7            8  \n",
            "count  1484.000000  1484.000000  1484.000000  \n",
            "mean      0.007500     0.499885     0.276199  \n",
            "std       0.075683     0.057797     0.106491  \n",
            "min       0.000000     0.000000     0.000000  \n",
            "25%       0.000000     0.480000     0.220000  \n",
            "50%       0.000000     0.510000     0.220000  \n",
            "75%       0.000000     0.530000     0.300000  \n",
            "max       0.830000     0.730000     1.000000  \n"
          ]
        }
      ]
    },
    {
      "cell_type": "markdown",
      "id": "691b437e",
      "metadata": {
        "id": "691b437e"
      },
      "source": [
        "#### Ringkasan Metode\n",
        "\n",
        "Ringkasan Metode Ensemble yang Digunakan:\n",
        "\n",
        "    Random Forest (Model Baseline):\n",
        "        Model RandomForestClassifier digunakan sebagai model baseline.\n",
        "        Random Forest adalah metode ensemble yang membangun beberapa pohon keputusan dan menggabungkan hasil prediksi mereka.\n",
        "        Melakukan pelatihan model menggunakan data fitur (X) dan target (y).\n",
        "        Mengevaluasi model pada data yang sama dengan menghitung akurasi, classification report, dan confusion matrix.\n",
        "\n",
        "    AdaBoost (Model Kedua):\n",
        "        Model AdaBoostClassifier digunakan sebagai model kedua.\n",
        "        AdaBoost adalah metode ensemble yang memperkuat model dengan memberi bobot lebih pada data yang salah klasifikasinya pada iterasi sebelumnya.\n",
        "        Melakukan pelatihan model menggunakan data fitur (X) dan target (y).\n",
        "        Mengevaluasi model pada data yang sama dengan menghitung akurasi.\n",
        "\n",
        "    Random Forest dengan Hyperparameter Tuning (Model Ketiga):\n",
        "        Menggunakan GridSearchCV untuk mencari kombinasi hyperparameter terbaik untuk model RandomForestClassifier.\n",
        "        Menggunakan hyperparameter terbaik yang ditemukan untuk melatih model RandomForestClassifier.\n",
        "        Melakukan pelatihan model menggunakan data fitur (X) dan target (y).\n",
        "        Mengevaluasi model pada set pengujian terpisah (20% dari data) dengan menghitung akurasi."
      ]
    },
    {
      "cell_type": "markdown",
      "source": [
        "# B. Pembangunan Model Baseline"
      ],
      "metadata": {
        "id": "g1purcfExIrL"
      },
      "id": "g1purcfExIrL"
    },
    {
      "cell_type": "code",
      "source": [
        "# Preprocessing Data\n",
        "data = data.dropna()"
      ],
      "metadata": {
        "id": "8-vF6zqUu8Hg"
      },
      "id": "8-vF6zqUu8Hg",
      "execution_count": null,
      "outputs": []
    },
    {
      "cell_type": "code",
      "source": [
        "# Pisahkan fitur dan target\n",
        "X = data.iloc[:, :-1]\n",
        "y = data.iloc[:, -1]"
      ],
      "metadata": {
        "id": "lwOvf7QFvBpS"
      },
      "id": "lwOvf7QFvBpS",
      "execution_count": null,
      "outputs": []
    },
    {
      "cell_type": "code",
      "source": [
        "# Drop kolom 0 dan 9\n",
        "X = data.drop(columns=[0, 9])\n",
        "y = data[9]"
      ],
      "metadata": {
        "id": "O5sA5W64woAd"
      },
      "id": "O5sA5W64woAd",
      "execution_count": null,
      "outputs": []
    },
    {
      "cell_type": "code",
      "source": [
        "# Model Baseline - Random Forest\n",
        "model_baseline = RandomForestClassifier(random_state=42)\n",
        "model_baseline.fit(X, y)"
      ],
      "metadata": {
        "colab": {
          "base_uri": "https://localhost:8080/",
          "height": 74
        },
        "id": "byI39RkxvF-S",
        "outputId": "31b12fe0-bdd6-4b97-a35e-275a0fbc1b6b"
      },
      "id": "byI39RkxvF-S",
      "execution_count": null,
      "outputs": [
        {
          "output_type": "execute_result",
          "data": {
            "text/plain": [
              "RandomForestClassifier(random_state=42)"
            ],
            "text/html": [
              "<style>#sk-container-id-1 {color: black;background-color: white;}#sk-container-id-1 pre{padding: 0;}#sk-container-id-1 div.sk-toggleable {background-color: white;}#sk-container-id-1 label.sk-toggleable__label {cursor: pointer;display: block;width: 100%;margin-bottom: 0;padding: 0.3em;box-sizing: border-box;text-align: center;}#sk-container-id-1 label.sk-toggleable__label-arrow:before {content: \"▸\";float: left;margin-right: 0.25em;color: #696969;}#sk-container-id-1 label.sk-toggleable__label-arrow:hover:before {color: black;}#sk-container-id-1 div.sk-estimator:hover label.sk-toggleable__label-arrow:before {color: black;}#sk-container-id-1 div.sk-toggleable__content {max-height: 0;max-width: 0;overflow: hidden;text-align: left;background-color: #f0f8ff;}#sk-container-id-1 div.sk-toggleable__content pre {margin: 0.2em;color: black;border-radius: 0.25em;background-color: #f0f8ff;}#sk-container-id-1 input.sk-toggleable__control:checked~div.sk-toggleable__content {max-height: 200px;max-width: 100%;overflow: auto;}#sk-container-id-1 input.sk-toggleable__control:checked~label.sk-toggleable__label-arrow:before {content: \"▾\";}#sk-container-id-1 div.sk-estimator input.sk-toggleable__control:checked~label.sk-toggleable__label {background-color: #d4ebff;}#sk-container-id-1 div.sk-label input.sk-toggleable__control:checked~label.sk-toggleable__label {background-color: #d4ebff;}#sk-container-id-1 input.sk-hidden--visually {border: 0;clip: rect(1px 1px 1px 1px);clip: rect(1px, 1px, 1px, 1px);height: 1px;margin: -1px;overflow: hidden;padding: 0;position: absolute;width: 1px;}#sk-container-id-1 div.sk-estimator {font-family: monospace;background-color: #f0f8ff;border: 1px dotted black;border-radius: 0.25em;box-sizing: border-box;margin-bottom: 0.5em;}#sk-container-id-1 div.sk-estimator:hover {background-color: #d4ebff;}#sk-container-id-1 div.sk-parallel-item::after {content: \"\";width: 100%;border-bottom: 1px solid gray;flex-grow: 1;}#sk-container-id-1 div.sk-label:hover label.sk-toggleable__label {background-color: #d4ebff;}#sk-container-id-1 div.sk-serial::before {content: \"\";position: absolute;border-left: 1px solid gray;box-sizing: border-box;top: 0;bottom: 0;left: 50%;z-index: 0;}#sk-container-id-1 div.sk-serial {display: flex;flex-direction: column;align-items: center;background-color: white;padding-right: 0.2em;padding-left: 0.2em;position: relative;}#sk-container-id-1 div.sk-item {position: relative;z-index: 1;}#sk-container-id-1 div.sk-parallel {display: flex;align-items: stretch;justify-content: center;background-color: white;position: relative;}#sk-container-id-1 div.sk-item::before, #sk-container-id-1 div.sk-parallel-item::before {content: \"\";position: absolute;border-left: 1px solid gray;box-sizing: border-box;top: 0;bottom: 0;left: 50%;z-index: -1;}#sk-container-id-1 div.sk-parallel-item {display: flex;flex-direction: column;z-index: 1;position: relative;background-color: white;}#sk-container-id-1 div.sk-parallel-item:first-child::after {align-self: flex-end;width: 50%;}#sk-container-id-1 div.sk-parallel-item:last-child::after {align-self: flex-start;width: 50%;}#sk-container-id-1 div.sk-parallel-item:only-child::after {width: 0;}#sk-container-id-1 div.sk-dashed-wrapped {border: 1px dashed gray;margin: 0 0.4em 0.5em 0.4em;box-sizing: border-box;padding-bottom: 0.4em;background-color: white;}#sk-container-id-1 div.sk-label label {font-family: monospace;font-weight: bold;display: inline-block;line-height: 1.2em;}#sk-container-id-1 div.sk-label-container {text-align: center;}#sk-container-id-1 div.sk-container {/* jupyter's `normalize.less` sets `[hidden] { display: none; }` but bootstrap.min.css set `[hidden] { display: none !important; }` so we also need the `!important` here to be able to override the default hidden behavior on the sphinx rendered scikit-learn.org. See: https://github.com/scikit-learn/scikit-learn/issues/21755 */display: inline-block !important;position: relative;}#sk-container-id-1 div.sk-text-repr-fallback {display: none;}</style><div id=\"sk-container-id-1\" class=\"sk-top-container\"><div class=\"sk-text-repr-fallback\"><pre>RandomForestClassifier(random_state=42)</pre><b>In a Jupyter environment, please rerun this cell to show the HTML representation or trust the notebook. <br />On GitHub, the HTML representation is unable to render, please try loading this page with nbviewer.org.</b></div><div class=\"sk-container\" hidden><div class=\"sk-item\"><div class=\"sk-estimator sk-toggleable\"><input class=\"sk-toggleable__control sk-hidden--visually\" id=\"sk-estimator-id-1\" type=\"checkbox\" checked><label for=\"sk-estimator-id-1\" class=\"sk-toggleable__label sk-toggleable__label-arrow\">RandomForestClassifier</label><div class=\"sk-toggleable__content\"><pre>RandomForestClassifier(random_state=42)</pre></div></div></div></div></div>"
            ]
          },
          "metadata": {},
          "execution_count": 7
        }
      ]
    },
    {
      "cell_type": "code",
      "source": [
        "from sklearn.model_selection import cross_val_score\n",
        "from sklearn.metrics import accuracy_score, classification_report, confusion_matrix\n",
        "from sklearn.ensemble import RandomForestClassifier\n",
        "import numpy as np\n",
        "\n",
        "# Model Baseline - RandomForest\n",
        "model_baseline = RandomForestClassifier(random_state=42)\n",
        "\n",
        "# Lakukan validasi silang dengan 5 lipatan (k-fold cross-validation)\n",
        "cross_val_scores = cross_val_score(model_baseline, X, y, cv=5, scoring='accuracy')\n",
        "\n",
        "# Latih model pada seluruh dataset\n",
        "model_baseline.fit(X, y)\n",
        "\n",
        "# Prediksi menggunakan model baseline pada seluruh dataset\n",
        "y_pred_baseline = model_baseline.predict(X)\n",
        "\n",
        "# Evaluasi model baseline\n",
        "accuracy_baseline = accuracy_score(y, y_pred_baseline)\n",
        "classification_report_baseline = classification_report(y, y_pred_baseline)\n",
        "confusion_matrix_baseline = confusion_matrix(y, y_pred_baseline)\n",
        "\n",
        "# Tampilkan hasil evaluasi\n",
        "print(\"Hasil Validasi Silang (Akurasi):\", cross_val_scores)\n",
        "print(\"Rata-rata Akurasi Validasi Silang:\", np.mean(cross_val_scores))\n",
        "\n",
        "print(\"\\nEvaluasi Model Baseline:\")\n",
        "print(\"Akurasi Model Baseline:\", accuracy_baseline)\n",
        "print(\"Laporan Klasifikasi Model Baseline:\\n\", classification_report_baseline)\n",
        "print(\"Confusion Matrix Model Baseline:\\n\", confusion_matrix_baseline)"
      ],
      "metadata": {
        "colab": {
          "base_uri": "https://localhost:8080/"
        },
        "id": "cxxlx0MykDwJ",
        "outputId": "9e7e7240-1fb0-4278-d2ed-8b5fa84ac91e"
      },
      "id": "cxxlx0MykDwJ",
      "execution_count": null,
      "outputs": [
        {
          "output_type": "stream",
          "name": "stdout",
          "text": [
            "Hasil Validasi Silang (Akurasi): [0.65656566 0.58585859 0.61952862 0.54208754 0.62837838]\n",
            "Rata-rata Akurasi Validasi Silang: 0.6064837564837565\n",
            "\n",
            "Evaluasi Model Baseline:\n",
            "Akurasi Model Baseline: 1.0\n",
            "Laporan Klasifikasi Model Baseline:\n",
            "               precision    recall  f1-score   support\n",
            "\n",
            "         CYT       1.00      1.00      1.00       463\n",
            "         ERL       1.00      1.00      1.00         5\n",
            "         EXC       1.00      1.00      1.00        35\n",
            "         ME1       1.00      1.00      1.00        44\n",
            "         ME2       1.00      1.00      1.00        51\n",
            "         ME3       1.00      1.00      1.00       163\n",
            "         MIT       1.00      1.00      1.00       244\n",
            "         NUC       1.00      1.00      1.00       429\n",
            "         POX       1.00      1.00      1.00        20\n",
            "         VAC       1.00      1.00      1.00        30\n",
            "\n",
            "    accuracy                           1.00      1484\n",
            "   macro avg       1.00      1.00      1.00      1484\n",
            "weighted avg       1.00      1.00      1.00      1484\n",
            "\n",
            "Confusion Matrix Model Baseline:\n",
            " [[463   0   0   0   0   0   0   0   0   0]\n",
            " [  0   5   0   0   0   0   0   0   0   0]\n",
            " [  0   0  35   0   0   0   0   0   0   0]\n",
            " [  0   0   0  44   0   0   0   0   0   0]\n",
            " [  0   0   0   0  51   0   0   0   0   0]\n",
            " [  0   0   0   0   0 163   0   0   0   0]\n",
            " [  0   0   0   0   0   0 244   0   0   0]\n",
            " [  0   0   0   0   0   0   0 429   0   0]\n",
            " [  0   0   0   0   0   0   0   0  20   0]\n",
            " [  0   0   0   0   0   0   0   0   0  30]]\n"
          ]
        }
      ]
    },
    {
      "cell_type": "code",
      "source": [
        "# Visualisasi Confusion Matrix Model Baseline\n",
        "sns.heatmap(confusion_matrix(y, y_pred_baseline), annot=True, fmt='d')\n",
        "plt.title('Confusion Matrix - Model Baseline')\n",
        "plt.show()"
      ],
      "metadata": {
        "colab": {
          "base_uri": "https://localhost:8080/",
          "height": 452
        },
        "id": "ecLDwUwsz72p",
        "outputId": "054f0038-bc13-4929-e3f3-7b03d3a707a9"
      },
      "id": "ecLDwUwsz72p",
      "execution_count": null,
      "outputs": [
        {
          "output_type": "display_data",
          "data": {
            "text/plain": [
              "<Figure size 640x480 with 2 Axes>"
            ],
            "image/png": "[encoded data removed]"
          },
          "metadata": {}
        }
      ]
    },
    {
      "cell_type": "markdown",
      "source": [
        "# C. Eksplorasi Model"
      ],
      "metadata": {
        "id": "PQaXLOqOzZ-X"
      },
      "id": "PQaXLOqOzZ-X"
    },
    {
      "cell_type": "code",
      "source": [
        "# Membuat 3 skema\n",
        "# Model 1: RandomForest\n",
        "model_rf = RandomForestClassifier(random_state=42)\n",
        "model_rf.fit(X, y)\n",
        "\n",
        "# Model 2: AdaBoost\n",
        "model_ab = AdaBoostClassifier(random_state=42)\n",
        "model_ab.fit(X, y)\n",
        "\n",
        "# Model 3: RandomForest dengan Hyperparameter Tuning\n",
        "param_grid_rf = {\n",
        "    'n_estimators': [50, 100, 200],\n",
        "    'max_depth': [None, 10, 20],\n",
        "    'min_samples_split': [2, 5, 10],\n",
        "    'min_samples_leaf': [1, 2, 4]\n",
        "}\n",
        "\n",
        "grid_search_rf = GridSearchCV(RandomForestClassifier(random_state=42), param_grid_rf, cv=5)\n",
        "grid_search_rf.fit(X, y)\n",
        "best_params_rf = grid_search_rf.best_params_\n",
        "\n",
        "model_rf_tuned = RandomForestClassifier(random_state=42, **best_params_rf)\n",
        "model_rf_tuned.fit(X, y)"
      ],
      "metadata": {
        "id": "n8mDZ87cxqz1",
        "colab": {
          "base_uri": "https://localhost:8080/",
          "height": 74
        },
        "outputId": "7a1824e6-bdd6-4384-dbb9-f88b0409f92f"
      },
      "id": "n8mDZ87cxqz1",
      "execution_count": null,
      "outputs": [
        {
          "output_type": "execute_result",
          "data": {
            "text/plain": [
              "RandomForestClassifier(max_depth=10, min_samples_split=10, random_state=42)"
            ],
            "text/html": [
              "<style>#sk-container-id-2 {color: black;background-color: white;}#sk-container-id-2 pre{padding: 0;}#sk-container-id-2 div.sk-toggleable {background-color: white;}#sk-container-id-2 label.sk-toggleable__label {cursor: pointer;display: block;width: 100%;margin-bottom: 0;padding: 0.3em;box-sizing: border-box;text-align: center;}#sk-container-id-2 label.sk-toggleable__label-arrow:before {content: \"▸\";float: left;margin-right: 0.25em;color: #696969;}#sk-container-id-2 label.sk-toggleable__label-arrow:hover:before {color: black;}#sk-container-id-2 div.sk-estimator:hover label.sk-toggleable__label-arrow:before {color: black;}#sk-container-id-2 div.sk-toggleable__content {max-height: 0;max-width: 0;overflow: hidden;text-align: left;background-color: #f0f8ff;}#sk-container-id-2 div.sk-toggleable__content pre {margin: 0.2em;color: black;border-radius: 0.25em;background-color: #f0f8ff;}#sk-container-id-2 input.sk-toggleable__control:checked~div.sk-toggleable__content {max-height: 200px;max-width: 100%;overflow: auto;}#sk-container-id-2 input.sk-toggleable__control:checked~label.sk-toggleable__label-arrow:before {content: \"▾\";}#sk-container-id-2 div.sk-estimator input.sk-toggleable__control:checked~label.sk-toggleable__label {background-color: #d4ebff;}#sk-container-id-2 div.sk-label input.sk-toggleable__control:checked~label.sk-toggleable__label {background-color: #d4ebff;}#sk-container-id-2 input.sk-hidden--visually {border: 0;clip: rect(1px 1px 1px 1px);clip: rect(1px, 1px, 1px, 1px);height: 1px;margin: -1px;overflow: hidden;padding: 0;position: absolute;width: 1px;}#sk-container-id-2 div.sk-estimator {font-family: monospace;background-color: #f0f8ff;border: 1px dotted black;border-radius: 0.25em;box-sizing: border-box;margin-bottom: 0.5em;}#sk-container-id-2 div.sk-estimator:hover {background-color: #d4ebff;}#sk-container-id-2 div.sk-parallel-item::after {content: \"\";width: 100%;border-bottom: 1px solid gray;flex-grow: 1;}#sk-container-id-2 div.sk-label:hover label.sk-toggleable__label {background-color: #d4ebff;}#sk-container-id-2 div.sk-serial::before {content: \"\";position: absolute;border-left: 1px solid gray;box-sizing: border-box;top: 0;bottom: 0;left: 50%;z-index: 0;}#sk-container-id-2 div.sk-serial {display: flex;flex-direction: column;align-items: center;background-color: white;padding-right: 0.2em;padding-left: 0.2em;position: relative;}#sk-container-id-2 div.sk-item {position: relative;z-index: 1;}#sk-container-id-2 div.sk-parallel {display: flex;align-items: stretch;justify-content: center;background-color: white;position: relative;}#sk-container-id-2 div.sk-item::before, #sk-container-id-2 div.sk-parallel-item::before {content: \"\";position: absolute;border-left: 1px solid gray;box-sizing: border-box;top: 0;bottom: 0;left: 50%;z-index: -1;}#sk-container-id-2 div.sk-parallel-item {display: flex;flex-direction: column;z-index: 1;position: relative;background-color: white;}#sk-container-id-2 div.sk-parallel-item:first-child::after {align-self: flex-end;width: 50%;}#sk-container-id-2 div.sk-parallel-item:last-child::after {align-self: flex-start;width: 50%;}#sk-container-id-2 div.sk-parallel-item:only-child::after {width: 0;}#sk-container-id-2 div.sk-dashed-wrapped {border: 1px dashed gray;margin: 0 0.4em 0.5em 0.4em;box-sizing: border-box;padding-bottom: 0.4em;background-color: white;}#sk-container-id-2 div.sk-label label {font-family: monospace;font-weight: bold;display: inline-block;line-height: 1.2em;}#sk-container-id-2 div.sk-label-container {text-align: center;}#sk-container-id-2 div.sk-container {/* jupyter's `normalize.less` sets `[hidden] { display: none; }` but bootstrap.min.css set `[hidden] { display: none !important; }` so we also need the `!important` here to be able to override the default hidden behavior on the sphinx rendered scikit-learn.org. See: https://github.com/scikit-learn/scikit-learn/issues/21755 */display: inline-block !important;position: relative;}#sk-container-id-2 div.sk-text-repr-fallback {display: none;}</style><div id=\"sk-container-id-2\" class=\"sk-top-container\"><div class=\"sk-text-repr-fallback\"><pre>RandomForestClassifier(max_depth=10, min_samples_split=10, random_state=42)</pre><b>In a Jupyter environment, please rerun this cell to show the HTML representation or trust the notebook. <br />On GitHub, the HTML representation is unable to render, please try loading this page with nbviewer.org.</b></div><div class=\"sk-container\" hidden><div class=\"sk-item\"><div class=\"sk-estimator sk-toggleable\"><input class=\"sk-toggleable__control sk-hidden--visually\" id=\"sk-estimator-id-2\" type=\"checkbox\" checked><label for=\"sk-estimator-id-2\" class=\"sk-toggleable__label sk-toggleable__label-arrow\">RandomForestClassifier</label><div class=\"sk-toggleable__content\"><pre>RandomForestClassifier(max_depth=10, min_samples_split=10, random_state=42)</pre></div></div></div></div></div>"
            ]
          },
          "metadata": {},
          "execution_count": 10
        }
      ]
    },
    {
      "cell_type": "markdown",
      "source": [
        "# D. Evaluasi"
      ],
      "metadata": {
        "id": "CU3-9bxnzeWN"
      },
      "id": "CU3-9bxnzeWN"
    },
    {
      "cell_type": "code",
      "execution_count": null,
      "id": "db175b05",
      "metadata": {
        "id": "db175b05",
        "colab": {
          "base_uri": "https://localhost:8080/"
        },
        "outputId": "4e599d03-fa01-45cf-8d79-0d2529e8d9a9"
      },
      "outputs": [
        {
          "output_type": "stream",
          "name": "stdout",
          "text": [
            "Akurasi Model RandomForest: 1.0\n",
            "Akurasi Model AdaBoost: 0.4107744107744108\n",
            "Akurasi Model RandomForest (Tuned): 0.7912457912457912\n"
          ]
        }
      ],
      "source": [
        "# Evaluasi\n",
        "from sklearn.model_selection import train_test_split\n",
        "\n",
        "# Pisahkan dataset menjadi set pelatihan dan set pengujian\n",
        "X_train, X_test, y_train, y_test = train_test_split(X, y, test_size=0.2, random_state=42)\n",
        "\n",
        "# Evaluasi Model 1 (RandomForest)\n",
        "y_pred_rf = model_rf.predict(X_test)\n",
        "print(\"Akurasi Model RandomForest:\", accuracy_score(y_test, y_pred_rf))\n",
        "# Evaluasi Model 2 (AdaBoost)\n",
        "y_pred_ab = model_ab.predict(X_test)\n",
        "print(\"Akurasi Model AdaBoost:\", accuracy_score(y_test, y_pred_ab))\n",
        "# Evaluasi Model 3 (RandomForest dengan Hyperparameter Tuning)\n",
        "y_pred_rf_tuned = model_rf_tuned.predict(X_test)\n",
        "print(\"Akurasi Model RandomForest (Tuned):\", accuracy_score(y_test, y_pred_rf_tuned))"
      ]
    },
    {
      "cell_type": "markdown",
      "id": "c5526cf7",
      "metadata": {
        "id": "c5526cf7"
      },
      "source": [
        "### Hasil dan Analisis\n",
        "\n",
        "Model Baseline (Random Forest):\n",
        "\n",
        "    Model baseline (RandomForestClassifier) dilatih dan dievaluasi.\n",
        "    Hasil evaluasi pada data pelatihan menunjukkan akurasi 100%, namun ini mungkin karena evaluasi dilakukan pada data yang sama yang digunakan untuk melatih model (overfitting).\n",
        "\n",
        "Visualisasi Confusion Matrix Model Baseline:\n",
        "\n",
        "    Confusion matrix model baseline menunjukkan prediksi yang sempurna untuk setiap kelas.\n",
        "\n",
        "Model Ensemble Tambahan:\n",
        "\n",
        "    Model kedua: AdaBoost dilatih dan dievaluasi dengan akurasi sekitar 41.08% pada data pengujian.\n",
        "    Model ketiga: RandomForest dengan Hyperparameter Tuning menggunakan GridSearchCV. Akurasi pada data pengujian adalah sekitar 79.12%.\n",
        "\n",
        "### Analisis:\n",
        "\n",
        "    Model baseline (Random Forest) menunjukkan hasil yang sangat baik pada data pelatihan, tetapi evaluasi yang lebih teliti diperlukan dengan menggunakan data pengujian terpisah untuk menghindari overfitting.\n",
        "    Model kedua (AdaBoost) memiliki akurasi yang lebih rendah dibandingkan dengan model baseline, mungkin karena kesulitan dalam menangani dataset atau memerlukan penyetelan parameter yang lebih lanjut.\n",
        "    Model ketiga (Random Forest dengan Hyperparameter Tuning) menunjukkan peningkatan akurasi dibandingkan dengan model baseline pada data pengujian, tetapi masih lebih rendah daripada hasil evaluasi pada data pelatihan.\n",
        "    Penyetelan hyperparameter dapat meningkatkan kinerja model, tetapi perlu diperhatikan agar tidak terjadi overfitting pada data pelatihan."
      ]
    },
    {
      "cell_type": "markdown",
      "id": "8a255fe5",
      "metadata": {
        "id": "8a255fe5"
      },
      "source": [
        "#### Kesimpulan\n",
        "Analisis:\n",
        "\n",
        "    Model baseline menunjukkan hasil yang sangat baik pada data pelatihan, namun evaluasi lebih lanjut diperlukan pada data pengujian untuk menghindari overfitting.\n",
        "    Model kedua memiliki akurasi yang lebih rendah, mungkin memerlukan penyetelan lebih lanjut.\n",
        "    Model ketiga menunjukkan peningkatan akurasi dengan penyetelan hyperparameter.\n",
        "\n",
        "Dalam keseluruhan, analisis ini memberikan gambaran awal tentang kinerja model ensemble yang digunakan. Evaluasi lebih lanjut dan penyetelan parameter dapat membantu meningkatkan hasil model."
      ]
    }
  ],
  "metadata": {
    "kernelspec": {
      "display_name": "Python 3 (ipykernel)",
      "language": "python",
      "name": "python3"
    },
    "language_info": {
      "codemirror_mode": {
        "name": "ipython",
        "version": 3
      },
      "file_extension": ".py",
      "mimetype": "text/x-python",
      "name": "python",
      "nbconvert_exporter": "python",
      "pygments_lexer": "ipython3",
      "version": "3.10.9"
    },
    "colab": {
      "provenance": []
    }
  },
  "nbformat": 4,
  "nbformat_minor": 5
}